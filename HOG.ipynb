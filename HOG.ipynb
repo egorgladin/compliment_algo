{
 "cells": [
  {
   "cell_type": "code",
   "execution_count": 1,
   "metadata": {},
   "outputs": [],
   "source": [
    "from __future__ import print_function, division\n",
    "import os\n",
    "import torch\n",
    "import torch.nn as nn\n",
    "from torch import cuda\n",
    "from torch.autograd import Variable\n",
    "import pandas as pd\n",
    "from skimage import io, transform\n",
    "from skimage.feature import hog\n",
    "import numpy as np\n",
    "import matplotlib.pyplot as plt\n",
    "import matplotlib.patches as patches\n",
    "from torch.utils.data import Dataset, DataLoader\n",
    "from torchvision import transforms, utils\n",
    "from sklearn.model_selection import train_test_split\n",
    "from timeit import default_timer as timer\n",
    "import seaborn as sns\n",
    "from pathlib import Path\n",
    "import pickle\n",
    "sns.set(color_codes=True)"
   ]
  },
  {
   "cell_type": "markdown",
   "metadata": {},
   "source": [
    "# Read annotation"
   ]
  },
  {
   "cell_type": "markdown",
   "metadata": {},
   "source": [
    "## Functions for reading annotations"
   ]
  },
  {
   "cell_type": "code",
   "execution_count": 2,
   "metadata": {},
   "outputs": [],
   "source": [
    "def read_bboxes(fname):\n",
    "    img_bbox = {'image_path': [], 'x1': [], 'y1': [], 'x2': [], 'y2': []}\n",
    "    with open(fname, \"r\") as file:\n",
    "        i = 0\n",
    "        for line in file:\n",
    "            if i < 2:\n",
    "                i += 1\n",
    "            else:\n",
    "                path, x_1,  y_1,  x_2,  y_2 = line.split()\n",
    "                img_bbox['image_path'].append(path)\n",
    "                img_bbox['x1'].append(x_1)\n",
    "                img_bbox['y1'].append(y_1)\n",
    "                img_bbox['x2'].append(x_2)\n",
    "                img_bbox['y2'].append(y_2)\n",
    "    \n",
    "    img_bbox = pd.DataFrame(img_bbox)\n",
    "    img_bbox['x1'] = img_bbox['x1'].astype('int64')\n",
    "    img_bbox['y1'] = img_bbox['y1'].astype('int64')\n",
    "    img_bbox['x2'] = img_bbox['x2'].astype('int64')\n",
    "    img_bbox['y2'] = img_bbox['y2'].astype('int64')\n",
    "    return img_bbox"
   ]
  },
  {
   "cell_type": "code",
   "execution_count": 3,
   "metadata": {},
   "outputs": [],
   "source": [
    "def read_categories(fname):\n",
    "    img_cat = {'image_path': [], 'category': []}\n",
    "    cat_imgs = {}\n",
    "    with open(fname, \"r\") as file:\n",
    "        i = 0\n",
    "        for line in file:\n",
    "            if i < 2:\n",
    "                i += 1\n",
    "            else:\n",
    "                path, cat = line.split()\n",
    "                img_cat['image_path'].append(path)\n",
    "                img_cat['category'].append(cat)\n",
    "                cat_imgs.setdefault(cat, [])\n",
    "                cat_imgs[cat].append(path)\n",
    "    img_cat = pd.DataFrame(img_cat)\n",
    "    img_cat['category'] = img_cat['category'].astype('int64')\n",
    "    return img_cat, cat_imgs"
   ]
  },
  {
   "cell_type": "code",
   "execution_count": 4,
   "metadata": {},
   "outputs": [],
   "source": [
    "def read_clothes(fname):\n",
    "    cloth_cat = {'catname': [], 'category': []}\n",
    "    with open(fname, \"r\") as file:\n",
    "        i = 0\n",
    "        for line in file:\n",
    "            if i > 1:\n",
    "                cloth, _ = line.split()\n",
    "                cloth_cat['catname'].append(cloth)\n",
    "                cloth_cat['category'].append(i - 1)\n",
    "            i += 1\n",
    "    cloth_cat = pd.DataFrame(cloth_cat)\n",
    "    cloth_cat['category'] = cloth_cat['category'].astype('int64')\n",
    "    return cloth_cat"
   ]
  },
  {
   "cell_type": "markdown",
   "metadata": {},
   "source": [
    "## Get annotations"
   ]
  },
  {
   "cell_type": "code",
   "execution_count": 5,
   "metadata": {},
   "outputs": [],
   "source": [
    "df_bbox = read_bboxes('dataset/Anno/list_bbox.txt')\n",
    "df_cat, cat_imgs = read_categories('dataset/Anno/list_category_img.txt')\n",
    "clothes_cat = read_clothes('dataset/Anno/list_category_cloth.txt')"
   ]
  },
  {
   "cell_type": "code",
   "execution_count": 6,
   "metadata": {},
   "outputs": [
    {
     "data": {
      "text/html": [
       "<div>\n",
       "<style scoped>\n",
       "    .dataframe tbody tr th:only-of-type {\n",
       "        vertical-align: middle;\n",
       "    }\n",
       "\n",
       "    .dataframe tbody tr th {\n",
       "        vertical-align: top;\n",
       "    }\n",
       "\n",
       "    .dataframe thead th {\n",
       "        text-align: right;\n",
       "    }\n",
       "</style>\n",
       "<table border=\"1\" class=\"dataframe\">\n",
       "  <thead>\n",
       "    <tr style=\"text-align: right;\">\n",
       "      <th></th>\n",
       "      <th>image_path</th>\n",
       "      <th>x1</th>\n",
       "      <th>y1</th>\n",
       "      <th>x2</th>\n",
       "      <th>y2</th>\n",
       "    </tr>\n",
       "  </thead>\n",
       "  <tbody>\n",
       "    <tr>\n",
       "      <th>0</th>\n",
       "      <td>img/Sheer_Pleated-Front_Blouse/img_00000001.jpg</td>\n",
       "      <td>72</td>\n",
       "      <td>79</td>\n",
       "      <td>232</td>\n",
       "      <td>273</td>\n",
       "    </tr>\n",
       "    <tr>\n",
       "      <th>1</th>\n",
       "      <td>img/Sheer_Pleated-Front_Blouse/img_00000002.jpg</td>\n",
       "      <td>67</td>\n",
       "      <td>59</td>\n",
       "      <td>155</td>\n",
       "      <td>161</td>\n",
       "    </tr>\n",
       "    <tr>\n",
       "      <th>2</th>\n",
       "      <td>img/Sheer_Pleated-Front_Blouse/img_00000003.jpg</td>\n",
       "      <td>65</td>\n",
       "      <td>65</td>\n",
       "      <td>156</td>\n",
       "      <td>200</td>\n",
       "    </tr>\n",
       "    <tr>\n",
       "      <th>3</th>\n",
       "      <td>img/Sheer_Pleated-Front_Blouse/img_00000004.jpg</td>\n",
       "      <td>51</td>\n",
       "      <td>62</td>\n",
       "      <td>167</td>\n",
       "      <td>182</td>\n",
       "    </tr>\n",
       "    <tr>\n",
       "      <th>4</th>\n",
       "      <td>img/Sheer_Pleated-Front_Blouse/img_00000005.jpg</td>\n",
       "      <td>46</td>\n",
       "      <td>88</td>\n",
       "      <td>166</td>\n",
       "      <td>262</td>\n",
       "    </tr>\n",
       "    <tr>\n",
       "      <th>5</th>\n",
       "      <td>img/Sheer_Pleated-Front_Blouse/img_00000006.jpg</td>\n",
       "      <td>47</td>\n",
       "      <td>67</td>\n",
       "      <td>211</td>\n",
       "      <td>241</td>\n",
       "    </tr>\n",
       "    <tr>\n",
       "      <th>6</th>\n",
       "      <td>img/Sheer_Pleated-Front_Blouse/img_00000007.jpg</td>\n",
       "      <td>18</td>\n",
       "      <td>73</td>\n",
       "      <td>200</td>\n",
       "      <td>241</td>\n",
       "    </tr>\n",
       "    <tr>\n",
       "      <th>7</th>\n",
       "      <td>img/Sheer_Pleated-Front_Blouse/img_00000008.jpg</td>\n",
       "      <td>75</td>\n",
       "      <td>74</td>\n",
       "      <td>197</td>\n",
       "      <td>246</td>\n",
       "    </tr>\n",
       "    <tr>\n",
       "      <th>8</th>\n",
       "      <td>img/Sheer_Pleated-Front_Blouse/img_00000009.jpg</td>\n",
       "      <td>24</td>\n",
       "      <td>56</td>\n",
       "      <td>149</td>\n",
       "      <td>235</td>\n",
       "    </tr>\n",
       "    <tr>\n",
       "      <th>9</th>\n",
       "      <td>img/Sheer_Pleated-Front_Blouse/img_00000010.jpg</td>\n",
       "      <td>19</td>\n",
       "      <td>96</td>\n",
       "      <td>192</td>\n",
       "      <td>203</td>\n",
       "    </tr>\n",
       "  </tbody>\n",
       "</table>\n",
       "</div>"
      ],
      "text/plain": [
       "                                        image_path  x1  y1   x2   y2\n",
       "0  img/Sheer_Pleated-Front_Blouse/img_00000001.jpg  72  79  232  273\n",
       "1  img/Sheer_Pleated-Front_Blouse/img_00000002.jpg  67  59  155  161\n",
       "2  img/Sheer_Pleated-Front_Blouse/img_00000003.jpg  65  65  156  200\n",
       "3  img/Sheer_Pleated-Front_Blouse/img_00000004.jpg  51  62  167  182\n",
       "4  img/Sheer_Pleated-Front_Blouse/img_00000005.jpg  46  88  166  262\n",
       "5  img/Sheer_Pleated-Front_Blouse/img_00000006.jpg  47  67  211  241\n",
       "6  img/Sheer_Pleated-Front_Blouse/img_00000007.jpg  18  73  200  241\n",
       "7  img/Sheer_Pleated-Front_Blouse/img_00000008.jpg  75  74  197  246\n",
       "8  img/Sheer_Pleated-Front_Blouse/img_00000009.jpg  24  56  149  235\n",
       "9  img/Sheer_Pleated-Front_Blouse/img_00000010.jpg  19  96  192  203"
      ]
     },
     "execution_count": 6,
     "metadata": {},
     "output_type": "execute_result"
    }
   ],
   "source": [
    "df_bbox.head(10)"
   ]
  },
  {
   "cell_type": "code",
   "execution_count": 7,
   "metadata": {},
   "outputs": [
    {
     "data": {
      "text/html": [
       "<div>\n",
       "<style scoped>\n",
       "    .dataframe tbody tr th:only-of-type {\n",
       "        vertical-align: middle;\n",
       "    }\n",
       "\n",
       "    .dataframe tbody tr th {\n",
       "        vertical-align: top;\n",
       "    }\n",
       "\n",
       "    .dataframe thead th {\n",
       "        text-align: right;\n",
       "    }\n",
       "</style>\n",
       "<table border=\"1\" class=\"dataframe\">\n",
       "  <thead>\n",
       "    <tr style=\"text-align: right;\">\n",
       "      <th></th>\n",
       "      <th>image_path</th>\n",
       "      <th>category</th>\n",
       "    </tr>\n",
       "  </thead>\n",
       "  <tbody>\n",
       "    <tr>\n",
       "      <th>0</th>\n",
       "      <td>img/Sheer_Pleated-Front_Blouse/img_00000001.jpg</td>\n",
       "      <td>3</td>\n",
       "    </tr>\n",
       "    <tr>\n",
       "      <th>1</th>\n",
       "      <td>img/Sheer_Pleated-Front_Blouse/img_00000002.jpg</td>\n",
       "      <td>3</td>\n",
       "    </tr>\n",
       "    <tr>\n",
       "      <th>2</th>\n",
       "      <td>img/Sheer_Pleated-Front_Blouse/img_00000003.jpg</td>\n",
       "      <td>3</td>\n",
       "    </tr>\n",
       "    <tr>\n",
       "      <th>3</th>\n",
       "      <td>img/Sheer_Pleated-Front_Blouse/img_00000004.jpg</td>\n",
       "      <td>3</td>\n",
       "    </tr>\n",
       "    <tr>\n",
       "      <th>4</th>\n",
       "      <td>img/Sheer_Pleated-Front_Blouse/img_00000005.jpg</td>\n",
       "      <td>3</td>\n",
       "    </tr>\n",
       "    <tr>\n",
       "      <th>5</th>\n",
       "      <td>img/Sheer_Pleated-Front_Blouse/img_00000006.jpg</td>\n",
       "      <td>3</td>\n",
       "    </tr>\n",
       "    <tr>\n",
       "      <th>6</th>\n",
       "      <td>img/Sheer_Pleated-Front_Blouse/img_00000007.jpg</td>\n",
       "      <td>3</td>\n",
       "    </tr>\n",
       "    <tr>\n",
       "      <th>7</th>\n",
       "      <td>img/Sheer_Pleated-Front_Blouse/img_00000008.jpg</td>\n",
       "      <td>3</td>\n",
       "    </tr>\n",
       "    <tr>\n",
       "      <th>8</th>\n",
       "      <td>img/Sheer_Pleated-Front_Blouse/img_00000009.jpg</td>\n",
       "      <td>3</td>\n",
       "    </tr>\n",
       "    <tr>\n",
       "      <th>9</th>\n",
       "      <td>img/Sheer_Pleated-Front_Blouse/img_00000010.jpg</td>\n",
       "      <td>3</td>\n",
       "    </tr>\n",
       "  </tbody>\n",
       "</table>\n",
       "</div>"
      ],
      "text/plain": [
       "                                        image_path  category\n",
       "0  img/Sheer_Pleated-Front_Blouse/img_00000001.jpg         3\n",
       "1  img/Sheer_Pleated-Front_Blouse/img_00000002.jpg         3\n",
       "2  img/Sheer_Pleated-Front_Blouse/img_00000003.jpg         3\n",
       "3  img/Sheer_Pleated-Front_Blouse/img_00000004.jpg         3\n",
       "4  img/Sheer_Pleated-Front_Blouse/img_00000005.jpg         3\n",
       "5  img/Sheer_Pleated-Front_Blouse/img_00000006.jpg         3\n",
       "6  img/Sheer_Pleated-Front_Blouse/img_00000007.jpg         3\n",
       "7  img/Sheer_Pleated-Front_Blouse/img_00000008.jpg         3\n",
       "8  img/Sheer_Pleated-Front_Blouse/img_00000009.jpg         3\n",
       "9  img/Sheer_Pleated-Front_Blouse/img_00000010.jpg         3"
      ]
     },
     "execution_count": 7,
     "metadata": {},
     "output_type": "execute_result"
    }
   ],
   "source": [
    "df_cat.head(10)"
   ]
  },
  {
   "cell_type": "code",
   "execution_count": 8,
   "metadata": {},
   "outputs": [
    {
     "data": {
      "text/html": [
       "<div>\n",
       "<style scoped>\n",
       "    .dataframe tbody tr th:only-of-type {\n",
       "        vertical-align: middle;\n",
       "    }\n",
       "\n",
       "    .dataframe tbody tr th {\n",
       "        vertical-align: top;\n",
       "    }\n",
       "\n",
       "    .dataframe thead th {\n",
       "        text-align: right;\n",
       "    }\n",
       "</style>\n",
       "<table border=\"1\" class=\"dataframe\">\n",
       "  <thead>\n",
       "    <tr style=\"text-align: right;\">\n",
       "      <th></th>\n",
       "      <th>catname</th>\n",
       "      <th>category</th>\n",
       "    </tr>\n",
       "  </thead>\n",
       "  <tbody>\n",
       "    <tr>\n",
       "      <th>0</th>\n",
       "      <td>Anorak</td>\n",
       "      <td>1</td>\n",
       "    </tr>\n",
       "    <tr>\n",
       "      <th>1</th>\n",
       "      <td>Blazer</td>\n",
       "      <td>2</td>\n",
       "    </tr>\n",
       "    <tr>\n",
       "      <th>2</th>\n",
       "      <td>Blouse</td>\n",
       "      <td>3</td>\n",
       "    </tr>\n",
       "    <tr>\n",
       "      <th>3</th>\n",
       "      <td>Bomber</td>\n",
       "      <td>4</td>\n",
       "    </tr>\n",
       "    <tr>\n",
       "      <th>4</th>\n",
       "      <td>Button-Down</td>\n",
       "      <td>5</td>\n",
       "    </tr>\n",
       "    <tr>\n",
       "      <th>5</th>\n",
       "      <td>Cardigan</td>\n",
       "      <td>6</td>\n",
       "    </tr>\n",
       "    <tr>\n",
       "      <th>6</th>\n",
       "      <td>Flannel</td>\n",
       "      <td>7</td>\n",
       "    </tr>\n",
       "    <tr>\n",
       "      <th>7</th>\n",
       "      <td>Halter</td>\n",
       "      <td>8</td>\n",
       "    </tr>\n",
       "    <tr>\n",
       "      <th>8</th>\n",
       "      <td>Henley</td>\n",
       "      <td>9</td>\n",
       "    </tr>\n",
       "    <tr>\n",
       "      <th>9</th>\n",
       "      <td>Hoodie</td>\n",
       "      <td>10</td>\n",
       "    </tr>\n",
       "  </tbody>\n",
       "</table>\n",
       "</div>"
      ],
      "text/plain": [
       "       catname  category\n",
       "0       Anorak         1\n",
       "1       Blazer         2\n",
       "2       Blouse         3\n",
       "3       Bomber         4\n",
       "4  Button-Down         5\n",
       "5     Cardigan         6\n",
       "6      Flannel         7\n",
       "7       Halter         8\n",
       "8       Henley         9\n",
       "9       Hoodie        10"
      ]
     },
     "execution_count": 8,
     "metadata": {},
     "output_type": "execute_result"
    }
   ],
   "source": [
    "clothes_cat.head(10)"
   ]
  },
  {
   "cell_type": "markdown",
   "metadata": {},
   "source": [
    "## Merge all results"
   ]
  },
  {
   "cell_type": "code",
   "execution_count": 9,
   "metadata": {},
   "outputs": [],
   "source": [
    "df = df_bbox.merge(df_cat, on='image_path')\n",
    "df = df.merge(clothes_cat, on='category')"
   ]
  },
  {
   "cell_type": "code",
   "execution_count": 10,
   "metadata": {},
   "outputs": [
    {
     "data": {
      "text/html": [
       "<div>\n",
       "<style scoped>\n",
       "    .dataframe tbody tr th:only-of-type {\n",
       "        vertical-align: middle;\n",
       "    }\n",
       "\n",
       "    .dataframe tbody tr th {\n",
       "        vertical-align: top;\n",
       "    }\n",
       "\n",
       "    .dataframe thead th {\n",
       "        text-align: right;\n",
       "    }\n",
       "</style>\n",
       "<table border=\"1\" class=\"dataframe\">\n",
       "  <thead>\n",
       "    <tr style=\"text-align: right;\">\n",
       "      <th></th>\n",
       "      <th>image_path</th>\n",
       "      <th>x1</th>\n",
       "      <th>y1</th>\n",
       "      <th>x2</th>\n",
       "      <th>y2</th>\n",
       "      <th>category</th>\n",
       "      <th>catname</th>\n",
       "    </tr>\n",
       "  </thead>\n",
       "  <tbody>\n",
       "    <tr>\n",
       "      <th>0</th>\n",
       "      <td>img/Sheer_Pleated-Front_Blouse/img_00000001.jpg</td>\n",
       "      <td>72</td>\n",
       "      <td>79</td>\n",
       "      <td>232</td>\n",
       "      <td>273</td>\n",
       "      <td>3</td>\n",
       "      <td>Blouse</td>\n",
       "    </tr>\n",
       "    <tr>\n",
       "      <th>1</th>\n",
       "      <td>img/Sheer_Pleated-Front_Blouse/img_00000002.jpg</td>\n",
       "      <td>67</td>\n",
       "      <td>59</td>\n",
       "      <td>155</td>\n",
       "      <td>161</td>\n",
       "      <td>3</td>\n",
       "      <td>Blouse</td>\n",
       "    </tr>\n",
       "    <tr>\n",
       "      <th>2</th>\n",
       "      <td>img/Sheer_Pleated-Front_Blouse/img_00000003.jpg</td>\n",
       "      <td>65</td>\n",
       "      <td>65</td>\n",
       "      <td>156</td>\n",
       "      <td>200</td>\n",
       "      <td>3</td>\n",
       "      <td>Blouse</td>\n",
       "    </tr>\n",
       "    <tr>\n",
       "      <th>3</th>\n",
       "      <td>img/Sheer_Pleated-Front_Blouse/img_00000004.jpg</td>\n",
       "      <td>51</td>\n",
       "      <td>62</td>\n",
       "      <td>167</td>\n",
       "      <td>182</td>\n",
       "      <td>3</td>\n",
       "      <td>Blouse</td>\n",
       "    </tr>\n",
       "    <tr>\n",
       "      <th>4</th>\n",
       "      <td>img/Sheer_Pleated-Front_Blouse/img_00000005.jpg</td>\n",
       "      <td>46</td>\n",
       "      <td>88</td>\n",
       "      <td>166</td>\n",
       "      <td>262</td>\n",
       "      <td>3</td>\n",
       "      <td>Blouse</td>\n",
       "    </tr>\n",
       "    <tr>\n",
       "      <th>5</th>\n",
       "      <td>img/Sheer_Pleated-Front_Blouse/img_00000006.jpg</td>\n",
       "      <td>47</td>\n",
       "      <td>67</td>\n",
       "      <td>211</td>\n",
       "      <td>241</td>\n",
       "      <td>3</td>\n",
       "      <td>Blouse</td>\n",
       "    </tr>\n",
       "    <tr>\n",
       "      <th>6</th>\n",
       "      <td>img/Sheer_Pleated-Front_Blouse/img_00000007.jpg</td>\n",
       "      <td>18</td>\n",
       "      <td>73</td>\n",
       "      <td>200</td>\n",
       "      <td>241</td>\n",
       "      <td>3</td>\n",
       "      <td>Blouse</td>\n",
       "    </tr>\n",
       "    <tr>\n",
       "      <th>7</th>\n",
       "      <td>img/Sheer_Pleated-Front_Blouse/img_00000008.jpg</td>\n",
       "      <td>75</td>\n",
       "      <td>74</td>\n",
       "      <td>197</td>\n",
       "      <td>246</td>\n",
       "      <td>3</td>\n",
       "      <td>Blouse</td>\n",
       "    </tr>\n",
       "    <tr>\n",
       "      <th>8</th>\n",
       "      <td>img/Sheer_Pleated-Front_Blouse/img_00000009.jpg</td>\n",
       "      <td>24</td>\n",
       "      <td>56</td>\n",
       "      <td>149</td>\n",
       "      <td>235</td>\n",
       "      <td>3</td>\n",
       "      <td>Blouse</td>\n",
       "    </tr>\n",
       "    <tr>\n",
       "      <th>9</th>\n",
       "      <td>img/Sheer_Pleated-Front_Blouse/img_00000010.jpg</td>\n",
       "      <td>19</td>\n",
       "      <td>96</td>\n",
       "      <td>192</td>\n",
       "      <td>203</td>\n",
       "      <td>3</td>\n",
       "      <td>Blouse</td>\n",
       "    </tr>\n",
       "  </tbody>\n",
       "</table>\n",
       "</div>"
      ],
      "text/plain": [
       "                                        image_path  x1  y1   x2   y2  \\\n",
       "0  img/Sheer_Pleated-Front_Blouse/img_00000001.jpg  72  79  232  273   \n",
       "1  img/Sheer_Pleated-Front_Blouse/img_00000002.jpg  67  59  155  161   \n",
       "2  img/Sheer_Pleated-Front_Blouse/img_00000003.jpg  65  65  156  200   \n",
       "3  img/Sheer_Pleated-Front_Blouse/img_00000004.jpg  51  62  167  182   \n",
       "4  img/Sheer_Pleated-Front_Blouse/img_00000005.jpg  46  88  166  262   \n",
       "5  img/Sheer_Pleated-Front_Blouse/img_00000006.jpg  47  67  211  241   \n",
       "6  img/Sheer_Pleated-Front_Blouse/img_00000007.jpg  18  73  200  241   \n",
       "7  img/Sheer_Pleated-Front_Blouse/img_00000008.jpg  75  74  197  246   \n",
       "8  img/Sheer_Pleated-Front_Blouse/img_00000009.jpg  24  56  149  235   \n",
       "9  img/Sheer_Pleated-Front_Blouse/img_00000010.jpg  19  96  192  203   \n",
       "\n",
       "   category catname  \n",
       "0         3  Blouse  \n",
       "1         3  Blouse  \n",
       "2         3  Blouse  \n",
       "3         3  Blouse  \n",
       "4         3  Blouse  \n",
       "5         3  Blouse  \n",
       "6         3  Blouse  \n",
       "7         3  Blouse  \n",
       "8         3  Blouse  \n",
       "9         3  Blouse  "
      ]
     },
     "execution_count": 10,
     "metadata": {},
     "output_type": "execute_result"
    }
   ],
   "source": [
    "df.head(10)"
   ]
  },
  {
   "cell_type": "markdown",
   "metadata": {},
   "source": [
    "## Leave categories of size more than 2000"
   ]
  },
  {
   "cell_type": "code",
   "execution_count": 11,
   "metadata": {},
   "outputs": [],
   "source": [
    "cat_counts = df['category'].value_counts()\n",
    "df = df[df['category'].apply(lambda x: cat_counts[x] > 2000)]"
   ]
  },
  {
   "cell_type": "markdown",
   "metadata": {},
   "source": [
    "## Count number of categories"
   ]
  },
  {
   "cell_type": "code",
   "execution_count": 12,
   "metadata": {},
   "outputs": [
    {
     "name": "stdout",
     "output_type": "stream",
     "text": [
      "Number of categories: 20\n"
     ]
    }
   ],
   "source": [
    "number_of_categories = len(df['category'].unique())\n",
    "print('Number of categories:', number_of_categories)"
   ]
  },
  {
   "cell_type": "markdown",
   "metadata": {},
   "source": [
    "# Identify appropriate size of patches"
   ]
  },
  {
   "cell_type": "code",
   "execution_count": 13,
   "metadata": {},
   "outputs": [
    {
     "data": {
      "text/html": [
       "<div>\n",
       "<style scoped>\n",
       "    .dataframe tbody tr th:only-of-type {\n",
       "        vertical-align: middle;\n",
       "    }\n",
       "\n",
       "    .dataframe tbody tr th {\n",
       "        vertical-align: top;\n",
       "    }\n",
       "\n",
       "    .dataframe thead th {\n",
       "        text-align: right;\n",
       "    }\n",
       "</style>\n",
       "<table border=\"1\" class=\"dataframe\">\n",
       "  <thead>\n",
       "    <tr style=\"text-align: right;\">\n",
       "      <th></th>\n",
       "      <th>image_path</th>\n",
       "      <th>x1</th>\n",
       "      <th>y1</th>\n",
       "      <th>x2</th>\n",
       "      <th>y2</th>\n",
       "      <th>width</th>\n",
       "      <th>height</th>\n",
       "    </tr>\n",
       "  </thead>\n",
       "  <tbody>\n",
       "    <tr>\n",
       "      <th>0</th>\n",
       "      <td>img/Sheer_Pleated-Front_Blouse/img_00000001.jpg</td>\n",
       "      <td>72</td>\n",
       "      <td>79</td>\n",
       "      <td>232</td>\n",
       "      <td>273</td>\n",
       "      <td>160</td>\n",
       "      <td>194</td>\n",
       "    </tr>\n",
       "    <tr>\n",
       "      <th>1</th>\n",
       "      <td>img/Sheer_Pleated-Front_Blouse/img_00000002.jpg</td>\n",
       "      <td>67</td>\n",
       "      <td>59</td>\n",
       "      <td>155</td>\n",
       "      <td>161</td>\n",
       "      <td>88</td>\n",
       "      <td>102</td>\n",
       "    </tr>\n",
       "    <tr>\n",
       "      <th>2</th>\n",
       "      <td>img/Sheer_Pleated-Front_Blouse/img_00000003.jpg</td>\n",
       "      <td>65</td>\n",
       "      <td>65</td>\n",
       "      <td>156</td>\n",
       "      <td>200</td>\n",
       "      <td>91</td>\n",
       "      <td>135</td>\n",
       "    </tr>\n",
       "    <tr>\n",
       "      <th>3</th>\n",
       "      <td>img/Sheer_Pleated-Front_Blouse/img_00000004.jpg</td>\n",
       "      <td>51</td>\n",
       "      <td>62</td>\n",
       "      <td>167</td>\n",
       "      <td>182</td>\n",
       "      <td>116</td>\n",
       "      <td>120</td>\n",
       "    </tr>\n",
       "    <tr>\n",
       "      <th>4</th>\n",
       "      <td>img/Sheer_Pleated-Front_Blouse/img_00000005.jpg</td>\n",
       "      <td>46</td>\n",
       "      <td>88</td>\n",
       "      <td>166</td>\n",
       "      <td>262</td>\n",
       "      <td>120</td>\n",
       "      <td>174</td>\n",
       "    </tr>\n",
       "    <tr>\n",
       "      <th>5</th>\n",
       "      <td>img/Sheer_Pleated-Front_Blouse/img_00000006.jpg</td>\n",
       "      <td>47</td>\n",
       "      <td>67</td>\n",
       "      <td>211</td>\n",
       "      <td>241</td>\n",
       "      <td>164</td>\n",
       "      <td>174</td>\n",
       "    </tr>\n",
       "    <tr>\n",
       "      <th>6</th>\n",
       "      <td>img/Sheer_Pleated-Front_Blouse/img_00000007.jpg</td>\n",
       "      <td>18</td>\n",
       "      <td>73</td>\n",
       "      <td>200</td>\n",
       "      <td>241</td>\n",
       "      <td>182</td>\n",
       "      <td>168</td>\n",
       "    </tr>\n",
       "    <tr>\n",
       "      <th>7</th>\n",
       "      <td>img/Sheer_Pleated-Front_Blouse/img_00000008.jpg</td>\n",
       "      <td>75</td>\n",
       "      <td>74</td>\n",
       "      <td>197</td>\n",
       "      <td>246</td>\n",
       "      <td>122</td>\n",
       "      <td>172</td>\n",
       "    </tr>\n",
       "    <tr>\n",
       "      <th>8</th>\n",
       "      <td>img/Sheer_Pleated-Front_Blouse/img_00000009.jpg</td>\n",
       "      <td>24</td>\n",
       "      <td>56</td>\n",
       "      <td>149</td>\n",
       "      <td>235</td>\n",
       "      <td>125</td>\n",
       "      <td>179</td>\n",
       "    </tr>\n",
       "    <tr>\n",
       "      <th>9</th>\n",
       "      <td>img/Sheer_Pleated-Front_Blouse/img_00000010.jpg</td>\n",
       "      <td>19</td>\n",
       "      <td>96</td>\n",
       "      <td>192</td>\n",
       "      <td>203</td>\n",
       "      <td>173</td>\n",
       "      <td>107</td>\n",
       "    </tr>\n",
       "  </tbody>\n",
       "</table>\n",
       "</div>"
      ],
      "text/plain": [
       "                                        image_path  x1  y1   x2   y2  width  \\\n",
       "0  img/Sheer_Pleated-Front_Blouse/img_00000001.jpg  72  79  232  273    160   \n",
       "1  img/Sheer_Pleated-Front_Blouse/img_00000002.jpg  67  59  155  161     88   \n",
       "2  img/Sheer_Pleated-Front_Blouse/img_00000003.jpg  65  65  156  200     91   \n",
       "3  img/Sheer_Pleated-Front_Blouse/img_00000004.jpg  51  62  167  182    116   \n",
       "4  img/Sheer_Pleated-Front_Blouse/img_00000005.jpg  46  88  166  262    120   \n",
       "5  img/Sheer_Pleated-Front_Blouse/img_00000006.jpg  47  67  211  241    164   \n",
       "6  img/Sheer_Pleated-Front_Blouse/img_00000007.jpg  18  73  200  241    182   \n",
       "7  img/Sheer_Pleated-Front_Blouse/img_00000008.jpg  75  74  197  246    122   \n",
       "8  img/Sheer_Pleated-Front_Blouse/img_00000009.jpg  24  56  149  235    125   \n",
       "9  img/Sheer_Pleated-Front_Blouse/img_00000010.jpg  19  96  192  203    173   \n",
       "\n",
       "   height  \n",
       "0     194  \n",
       "1     102  \n",
       "2     135  \n",
       "3     120  \n",
       "4     174  \n",
       "5     174  \n",
       "6     168  \n",
       "7     172  \n",
       "8     179  \n",
       "9     107  "
      ]
     },
     "execution_count": 13,
     "metadata": {},
     "output_type": "execute_result"
    }
   ],
   "source": [
    "df_bbox_only = df[['image_path', 'x1', 'y1', 'x2', 'y2']].copy()\n",
    "df_bbox_only['width'] = df_bbox_only['x2'] - df_bbox_only['x1']\n",
    "df_bbox_only['height'] = df_bbox_only['y2'] - df_bbox_only['y1']\n",
    "df_bbox_only.head(10)"
   ]
  },
  {
   "cell_type": "code",
   "execution_count": 14,
   "metadata": {},
   "outputs": [
    {
     "data": {
      "image/png": "[encoded data removed]",
      "text/plain": [
       "<Figure size 432x288 with 1 Axes>"
      ]
     },
     "metadata": {},
     "output_type": "display_data"
    }
   ],
   "source": [
    "plt.title('Bbox width distribution')\n",
    "sns.distplot(df_bbox_only['width'], rug=True, kde=False, bins=20)\n",
    "plt.savefig('bbox_width_hist.png', bbox_inches = 'tight')"
   ]
  },
  {
   "cell_type": "code",
   "execution_count": 15,
   "metadata": {},
   "outputs": [
    {
     "data": {
      "image/png": "[encoded data removed]",
      "text/plain": [
       "<Figure size 432x288 with 1 Axes>"
      ]
     },
     "metadata": {},
     "output_type": "display_data"
    }
   ],
   "source": [
    "plt.title('Bbox height distribution')\n",
    "sns.distplot(df_bbox_only['height'], rug=True, kde=False, bins=20)\n",
    "plt.savefig('bbox_height_hist.png', bbox_inches='tight')"
   ]
  },
  {
   "cell_type": "code",
   "execution_count": 16,
   "metadata": {},
   "outputs": [
    {
     "name": "stdout",
     "output_type": "stream",
     "text": [
      "Mean bbox width: 141.22897824842588\n",
      "Mean bbox height: 196.1675336290784\n"
     ]
    }
   ],
   "source": [
    "print('Mean bbox width:', df_bbox_only['width'].mean())\n",
    "print('Mean bbox height:', df_bbox_only['height'].mean())"
   ]
  },
  {
   "cell_type": "markdown",
   "metadata": {},
   "source": [
    "## Get image sizes"
   ]
  },
  {
   "cell_type": "code",
   "execution_count": null,
   "metadata": {},
   "outputs": [],
   "source": [
    "count = 0\n",
    "paths = df_bbox_only['image_path']\n",
    "prefix = 'dataset/'\n",
    "total = len(paths)\n",
    "step = max(5, (total * 5) // 100)\n",
    "image_sizes = {'image_path': [], 'img_width': [], 'img_height': []}\n",
    "for path in paths:\n",
    "    img = io.imread(prefix + path)\n",
    "    image_sizes['image_path'].append(path)\n",
    "    image_sizes['img_width'].append(img.shape[1])\n",
    "    image_sizes['img_height'].append(img.shape[0])\n",
    "    count += 1\n",
    "    if count % step == 0:\n",
    "        print(f'progress: {100 * count / total:.2f}%')"
   ]
  },
  {
   "cell_type": "code",
   "execution_count": null,
   "metadata": {},
   "outputs": [],
   "source": [
    "df_img_size = pd.DataFrame(image_sizes)"
   ]
  },
  {
   "cell_type": "code",
   "execution_count": null,
   "metadata": {},
   "outputs": [],
   "source": [
    "df_img_size.head()"
   ]
  },
  {
   "cell_type": "code",
   "execution_count": null,
   "metadata": {},
   "outputs": [],
   "source": [
    "# cause it tooks a lot of time to compute\n",
    "df_img_size.to_csv('dataset/image_sizes.csv', index=False)"
   ]
  },
  {
   "cell_type": "code",
   "execution_count": 17,
   "metadata": {},
   "outputs": [
    {
     "data": {
      "text/html": [
       "<div>\n",
       "<style scoped>\n",
       "    .dataframe tbody tr th:only-of-type {\n",
       "        vertical-align: middle;\n",
       "    }\n",
       "\n",
       "    .dataframe tbody tr th {\n",
       "        vertical-align: top;\n",
       "    }\n",
       "\n",
       "    .dataframe thead th {\n",
       "        text-align: right;\n",
       "    }\n",
       "</style>\n",
       "<table border=\"1\" class=\"dataframe\">\n",
       "  <thead>\n",
       "    <tr style=\"text-align: right;\">\n",
       "      <th></th>\n",
       "      <th>image_path</th>\n",
       "      <th>img_width</th>\n",
       "      <th>img_height</th>\n",
       "    </tr>\n",
       "  </thead>\n",
       "  <tbody>\n",
       "    <tr>\n",
       "      <th>0</th>\n",
       "      <td>img/Sheer_Pleated-Front_Blouse/img_00000001.jpg</td>\n",
       "      <td>300</td>\n",
       "      <td>300</td>\n",
       "    </tr>\n",
       "    <tr>\n",
       "      <th>1</th>\n",
       "      <td>img/Sheer_Pleated-Front_Blouse/img_00000002.jpg</td>\n",
       "      <td>205</td>\n",
       "      <td>300</td>\n",
       "    </tr>\n",
       "    <tr>\n",
       "      <th>2</th>\n",
       "      <td>img/Sheer_Pleated-Front_Blouse/img_00000003.jpg</td>\n",
       "      <td>207</td>\n",
       "      <td>300</td>\n",
       "    </tr>\n",
       "    <tr>\n",
       "      <th>3</th>\n",
       "      <td>img/Sheer_Pleated-Front_Blouse/img_00000004.jpg</td>\n",
       "      <td>200</td>\n",
       "      <td>250</td>\n",
       "    </tr>\n",
       "    <tr>\n",
       "      <th>4</th>\n",
       "      <td>img/Sheer_Pleated-Front_Blouse/img_00000005.jpg</td>\n",
       "      <td>200</td>\n",
       "      <td>300</td>\n",
       "    </tr>\n",
       "  </tbody>\n",
       "</table>\n",
       "</div>"
      ],
      "text/plain": [
       "                                        image_path  img_width  img_height\n",
       "0  img/Sheer_Pleated-Front_Blouse/img_00000001.jpg        300         300\n",
       "1  img/Sheer_Pleated-Front_Blouse/img_00000002.jpg        205         300\n",
       "2  img/Sheer_Pleated-Front_Blouse/img_00000003.jpg        207         300\n",
       "3  img/Sheer_Pleated-Front_Blouse/img_00000004.jpg        200         250\n",
       "4  img/Sheer_Pleated-Front_Blouse/img_00000005.jpg        200         300"
      ]
     },
     "execution_count": 17,
     "metadata": {},
     "output_type": "execute_result"
    }
   ],
   "source": [
    "# just read it from file\n",
    "df_img_size = pd.read_csv('dataset/image_sizes.csv')\n",
    "df_img_size.head()"
   ]
  },
  {
   "cell_type": "markdown",
   "metadata": {},
   "source": [
    "Print minimum sizes of images"
   ]
  },
  {
   "cell_type": "code",
   "execution_count": 18,
   "metadata": {},
   "outputs": [
    {
     "name": "stdout",
     "output_type": "stream",
     "text": [
      "Minimum image width: 36\n",
      "Minimum image height 48\n"
     ]
    }
   ],
   "source": [
    "print('Minimum image width:', df_img_size['img_width'].min())\n",
    "print('Minimum image height', df_img_size['img_height'].min())"
   ]
  },
  {
   "cell_type": "markdown",
   "metadata": {},
   "source": [
    "Minimum sizes are too low. We need to investigate further"
   ]
  },
  {
   "cell_type": "code",
   "execution_count": 19,
   "metadata": {},
   "outputs": [
    {
     "data": {
      "image/png": "[encoded data removed]",
      "text/plain": [
       "<Figure size 432x288 with 1 Axes>"
      ]
     },
     "metadata": {},
     "output_type": "display_data"
    }
   ],
   "source": [
    "plt.title('Image width distribution')\n",
    "sns.distplot(df_img_size['img_width'], rug=True, kde=False, bins=20)\n",
    "plt.savefig('img_width_hist.png', bbox_inches = 'tight')"
   ]
  },
  {
   "cell_type": "code",
   "execution_count": 20,
   "metadata": {},
   "outputs": [
    {
     "data": {
      "image/png": "[encoded data removed]",
      "text/plain": [
       "<Figure size 432x288 with 1 Axes>"
      ]
     },
     "metadata": {},
     "output_type": "display_data"
    }
   ],
   "source": [
    "plt.title('Image height distribution')\n",
    "sns.distplot(df_img_size['img_height'], rug=True, kde=False, bins=20)\n",
    "plt.savefig('img_height_hist.png', bbox_inches = 'tight')"
   ]
  },
  {
   "cell_type": "markdown",
   "metadata": {},
   "source": [
    "From these two plots we can see that most of image sizes are significantly more than minimum sizes.<br>\n",
    "We can get rid of small images, but we need to pay attention to category counts<br>"
   ]
  },
  {
   "cell_type": "code",
   "execution_count": 21,
   "metadata": {},
   "outputs": [],
   "source": [
    "def category_counts(df):\n",
    "    result = df['category'].value_counts().to_frame('count')\n",
    "    result.reset_index(inplace=True)\n",
    "    result.rename(columns={'index':'category'}, \n",
    "                 inplace=True)\n",
    "    return result"
   ]
  },
  {
   "cell_type": "code",
   "execution_count": 22,
   "metadata": {},
   "outputs": [],
   "source": [
    "def compare_category_count(cc1, cc2):\n",
    "    cc1['relative'] = cc2['count'] / cc1['count']\n",
    "    sns.set_color_codes(\"pastel\")\n",
    "    sns.barplot('category', 'relative', data=cc1, label='before', color='b')"
   ]
  },
  {
   "cell_type": "code",
   "execution_count": 23,
   "metadata": {},
   "outputs": [
    {
     "data": {
      "text/html": [
       "<div>\n",
       "<style scoped>\n",
       "    .dataframe tbody tr th:only-of-type {\n",
       "        vertical-align: middle;\n",
       "    }\n",
       "\n",
       "    .dataframe tbody tr th {\n",
       "        vertical-align: top;\n",
       "    }\n",
       "\n",
       "    .dataframe thead th {\n",
       "        text-align: right;\n",
       "    }\n",
       "</style>\n",
       "<table border=\"1\" class=\"dataframe\">\n",
       "  <thead>\n",
       "    <tr style=\"text-align: right;\">\n",
       "      <th></th>\n",
       "      <th>image_path</th>\n",
       "      <th>x1</th>\n",
       "      <th>y1</th>\n",
       "      <th>x2</th>\n",
       "      <th>y2</th>\n",
       "      <th>category</th>\n",
       "      <th>catname</th>\n",
       "      <th>img_width</th>\n",
       "      <th>img_height</th>\n",
       "      <th>width</th>\n",
       "      <th>height</th>\n",
       "    </tr>\n",
       "  </thead>\n",
       "  <tbody>\n",
       "    <tr>\n",
       "      <th>0</th>\n",
       "      <td>img/Sheer_Pleated-Front_Blouse/img_00000001.jpg</td>\n",
       "      <td>72</td>\n",
       "      <td>79</td>\n",
       "      <td>232</td>\n",
       "      <td>273</td>\n",
       "      <td>3</td>\n",
       "      <td>Blouse</td>\n",
       "      <td>300</td>\n",
       "      <td>300</td>\n",
       "      <td>160</td>\n",
       "      <td>194</td>\n",
       "    </tr>\n",
       "    <tr>\n",
       "      <th>1</th>\n",
       "      <td>img/Sheer_Pleated-Front_Blouse/img_00000002.jpg</td>\n",
       "      <td>67</td>\n",
       "      <td>59</td>\n",
       "      <td>155</td>\n",
       "      <td>161</td>\n",
       "      <td>3</td>\n",
       "      <td>Blouse</td>\n",
       "      <td>205</td>\n",
       "      <td>300</td>\n",
       "      <td>88</td>\n",
       "      <td>102</td>\n",
       "    </tr>\n",
       "    <tr>\n",
       "      <th>2</th>\n",
       "      <td>img/Sheer_Pleated-Front_Blouse/img_00000003.jpg</td>\n",
       "      <td>65</td>\n",
       "      <td>65</td>\n",
       "      <td>156</td>\n",
       "      <td>200</td>\n",
       "      <td>3</td>\n",
       "      <td>Blouse</td>\n",
       "      <td>207</td>\n",
       "      <td>300</td>\n",
       "      <td>91</td>\n",
       "      <td>135</td>\n",
       "    </tr>\n",
       "    <tr>\n",
       "      <th>3</th>\n",
       "      <td>img/Sheer_Pleated-Front_Blouse/img_00000004.jpg</td>\n",
       "      <td>51</td>\n",
       "      <td>62</td>\n",
       "      <td>167</td>\n",
       "      <td>182</td>\n",
       "      <td>3</td>\n",
       "      <td>Blouse</td>\n",
       "      <td>200</td>\n",
       "      <td>250</td>\n",
       "      <td>116</td>\n",
       "      <td>120</td>\n",
       "    </tr>\n",
       "    <tr>\n",
       "      <th>4</th>\n",
       "      <td>img/Sheer_Pleated-Front_Blouse/img_00000005.jpg</td>\n",
       "      <td>46</td>\n",
       "      <td>88</td>\n",
       "      <td>166</td>\n",
       "      <td>262</td>\n",
       "      <td>3</td>\n",
       "      <td>Blouse</td>\n",
       "      <td>200</td>\n",
       "      <td>300</td>\n",
       "      <td>120</td>\n",
       "      <td>174</td>\n",
       "    </tr>\n",
       "  </tbody>\n",
       "</table>\n",
       "</div>"
      ],
      "text/plain": [
       "                                        image_path  x1  y1   x2   y2  \\\n",
       "0  img/Sheer_Pleated-Front_Blouse/img_00000001.jpg  72  79  232  273   \n",
       "1  img/Sheer_Pleated-Front_Blouse/img_00000002.jpg  67  59  155  161   \n",
       "2  img/Sheer_Pleated-Front_Blouse/img_00000003.jpg  65  65  156  200   \n",
       "3  img/Sheer_Pleated-Front_Blouse/img_00000004.jpg  51  62  167  182   \n",
       "4  img/Sheer_Pleated-Front_Blouse/img_00000005.jpg  46  88  166  262   \n",
       "\n",
       "   category catname  img_width  img_height  width  height  \n",
       "0         3  Blouse        300         300    160     194  \n",
       "1         3  Blouse        205         300     88     102  \n",
       "2         3  Blouse        207         300     91     135  \n",
       "3         3  Blouse        200         250    116     120  \n",
       "4         3  Blouse        200         300    120     174  "
      ]
     },
     "execution_count": 23,
     "metadata": {},
     "output_type": "execute_result"
    }
   ],
   "source": [
    "full_df = df.merge(df_img_size, on='image_path')\n",
    "full_df = full_df.merge(df_bbox_only.drop(['x1', 'x2', 'y1', 'y2'], axis=1), on='image_path')\n",
    "full_df.head()"
   ]
  },
  {
   "cell_type": "code",
   "execution_count": 24,
   "metadata": {},
   "outputs": [
    {
     "name": "stdout",
     "output_type": "stream",
     "text": [
      "deleted images: 15064\n"
     ]
    }
   ],
   "source": [
    "# we choose cutoff that are close to mean valuse\n",
    "width_cutoff = 150\n",
    "height_cutoff = 200\n",
    "cut_df = full_df[full_df['img_width'] > width_cutoff]\n",
    "cut_df = cut_df[cut_df['img_height'] > height_cutoff]\n",
    "print('deleted images:', len(full_df) - len(cut_df))"
   ]
  },
  {
   "cell_type": "code",
   "execution_count": 25,
   "metadata": {},
   "outputs": [
    {
     "data": {
      "image/png": "[encoded data removed]",
      "text/plain": [
       "<Figure size 432x288 with 1 Axes>"
      ]
     },
     "metadata": {},
     "output_type": "display_data"
    }
   ],
   "source": [
    "compare_category_count(category_counts(full_df), category_counts(cut_df))"
   ]
  },
  {
   "cell_type": "markdown",
   "metadata": {},
   "source": [
    "As we can see distribution of classes do not change significantly!"
   ]
  },
  {
   "cell_type": "markdown",
   "metadata": {},
   "source": [
    "# Show bounding boxes"
   ]
  },
  {
   "cell_type": "code",
   "execution_count": 26,
   "metadata": {},
   "outputs": [
    {
     "name": "stdout",
     "output_type": "stream",
     "text": [
      "[67, 59, 155, 161]\n"
     ]
    },
    {
     "data": {
      "image/png": "[encoded data removed]",
      "text/plain": [
       "<Figure size 432x288 with 1 Axes>"
      ]
     },
     "metadata": {},
     "output_type": "display_data"
    }
   ],
   "source": [
    "def show_bbox(image, bbox):\n",
    "    \"\"\"Show image with bounding box\"\"\"\n",
    "    fig, ax = plt.subplots()\n",
    "    ax.imshow(image)\n",
    "    \n",
    "    x1,  y1,  x2,  y2 = bbox\n",
    "    rect = patches.Rectangle((x1, y1), x2 - x1, y2 - y1, \\\n",
    "                             linewidth=1, edgecolor='r', facecolor='none')\n",
    "    ax.add_patch(rect)\n",
    "    plt.xticks([]),plt.yticks([])\n",
    "\n",
    "img_path = df.iloc[1, 0]\n",
    "bbox = list(df.loc[1, ['x1', 'y1', 'x2', 'y2']])\n",
    "print(bbox)\n",
    "show_bbox(io.imread('dataset/' + img_path), bbox)"
   ]
  },
  {
   "cell_type": "markdown",
   "metadata": {},
   "source": [
    "# Create dataset and dataloader"
   ]
  },
  {
   "cell_type": "markdown",
   "metadata": {},
   "source": [
    "## Dataset"
   ]
  },
  {
   "cell_type": "code",
   "execution_count": 27,
   "metadata": {},
   "outputs": [],
   "source": [
    "class ClothesDataset(Dataset):\n",
    "    \"\"\"Clothes dataset.\"\"\"\n",
    "\n",
    "    def __init__(self, df_dataset, class_to_idx, transform=None, prefix=''):\n",
    "        self.df_dataset = df_dataset\n",
    "        self.class_to_idx = class_to_idx\n",
    "        self.transform = transform\n",
    "        self.prefix = prefix\n",
    "\n",
    "    def __len__(self):\n",
    "        return len(self.df_dataset)\n",
    "\n",
    "    def __getitem__(self, idx):\n",
    "        img_path = self.df_dataset.iloc[idx]['image_path']\n",
    "        img_path = self.prefix + img_path\n",
    "        image = io.imread(img_path)\n",
    "        \n",
    "        category = self.df_dataset.iloc[idx]['category']\n",
    "        x1,  y1,  x2,  y2 = self.df_dataset.iloc[idx][['x1', 'y1', 'x2', 'y2']]\n",
    "        x_center = (x1 + x2) / 2\n",
    "        y_center = (y1 + y2) / 2\n",
    "        bbox_center = np.array([int(x_center), int(y_center)])\n",
    "        \n",
    "        sample = {'image': image, 'category': self.class_to_idx[category], 'bbox_center': bbox_center}\n",
    "\n",
    "        if self.transform:\n",
    "            sample = self.transform(sample)\n",
    "\n",
    "        return sample"
   ]
  },
  {
   "cell_type": "code",
   "execution_count": 28,
   "metadata": {},
   "outputs": [],
   "source": [
    "\n",
    "class ClothesDatasetOptim(Dataset):\n",
    "    \"\"\"Clothes dataset optimized\"\"\"\n",
    "\n",
    "    def __init__(self, dataset_path, class_to_idx, transform=None):\n",
    "        self.files = [str(Path(dataset_path) / f) for f in os.listdir(dataset_path)]\n",
    "        self.transform = transform\n",
    "        self.class_to_idx = class_to_idx\n",
    "\n",
    "    def __len__(self):\n",
    "        return len(self.files)\n",
    "\n",
    "    def __getitem__(self, idx):\n",
    "        with open(self.files[idx], 'rb') as handle:\n",
    "            sample = pickle.load(handle)\n",
    "        if self.transform:\n",
    "            sample = self.transform(sample)\n",
    "\n",
    "        return sample"
   ]
  },
  {
   "cell_type": "markdown",
   "metadata": {},
   "source": [
    "## Transformations"
   ]
  },
  {
   "cell_type": "code",
   "execution_count": 29,
   "metadata": {},
   "outputs": [],
   "source": [
    "class Rescale(object):\n",
    "    \"\"\"Rescale the image in a sample to a given size.\n",
    "\n",
    "    Args:\n",
    "        output_size (int): Desired output size. Smaller of image edges\n",
    "            is matched to output_size keeping aspect ratio the same.\n",
    "    \"\"\"\n",
    "\n",
    "    def __init__(self, output_size):\n",
    "        assert isinstance(output_size, int)\n",
    "        self.output_size = output_size\n",
    "\n",
    "    def __call__(self, sample):\n",
    "        image, category, bbox_center = sample['image'], sample['category'], sample['bbox_center']\n",
    "\n",
    "        h, w = image.shape[:2]\n",
    "        if h > w:\n",
    "            new_h, new_w = self.output_size * h / w, self.output_size\n",
    "        else:\n",
    "            new_h, new_w = self.output_size, self.output_size * w / h\n",
    "\n",
    "        new_h, new_w = int(new_h), int(new_w)\n",
    "\n",
    "        img = transform.resize(image, (new_h, new_w))\n",
    "\n",
    "        # h and w are swapped for landmarks because for images,\n",
    "        # x and y axes are axis 1 and 0 respectively\n",
    "        bbox_center = bbox_center * [new_w / w, new_h / h]\n",
    "\n",
    "        return {'image': img, 'category': category, 'bbox_center': bbox_center.astype('int')}"
   ]
  },
  {
   "cell_type": "code",
   "execution_count": 30,
   "metadata": {},
   "outputs": [],
   "source": [
    "class PatchCrop(object):\n",
    "    \"\"\"Crop square patch from image.\n",
    "    \"\"\"\n",
    "\n",
    "    def __init__(self, patch_out_size):\n",
    "        self.patch_size = patch_out_size # [width, height]\n",
    "\n",
    "    def __call__(self, sample):\n",
    "        image, category, bbox_center = sample['image'], sample['category'], sample['bbox_center']\n",
    "        img_shape = np.array([image.shape[1], image.shape[0]])\n",
    "\n",
    "        patch_start = bbox_center - np.array(self.patch_size, dtype=np.int32) // 2\n",
    "        patch_start = np.maximum(patch_start, 0)\n",
    "        patch_start = np.minimum(patch_start, img_shape - np.array(self.patch_size))\n",
    "        x1, y1 = patch_start\n",
    "        x2, y2 = patch_start + self.patch_size\n",
    "        patch = image[y1:y2, x1:x2]\n",
    "\n",
    "        return {'image': patch, 'category': category}"
   ]
  },
  {
   "cell_type": "code",
   "execution_count": 40,
   "metadata": {},
   "outputs": [],
   "source": [
    "class Hog(object):\n",
    "    \"\"\"Crop square patch from image.\n",
    "    \"\"\"\n",
    "\n",
    "    def __init__(self):\n",
    "        pass\n",
    "\n",
    "    def __call__(self, sample):\n",
    "        image, category = sample['image'], sample['category']\n",
    "        hog_features = hog(image, multichannel=True)\n",
    "        \n",
    "        return {'hog': hog_features, 'category': category}"
   ]
  },
  {
   "cell_type": "code",
   "execution_count": 41,
   "metadata": {},
   "outputs": [],
   "source": [
    "class ToTensor(object):\n",
    "    \"\"\"Convert ndarrays in sample to Tensors.\"\"\"\n",
    "\n",
    "    def __call__(self, sample):\n",
    "        hog, category = sample['hog'], sample['category']\n",
    "\n",
    "        hog = hog.astype('float32')\n",
    "        return {'hog': torch.from_numpy(hog),\n",
    "                'category': category}"
   ]
  },
  {
   "cell_type": "code",
   "execution_count": 42,
   "metadata": {},
   "outputs": [],
   "source": [
    "def save_dataset(dataset, dst):\n",
    "    count = 0\n",
    "    total = len(dataset)\n",
    "    step = max(5, (total / 10) // 100)\n",
    "    for i in range(len(dataset)):\n",
    "        with open(dst + f'{i}.pickle', 'wb') as handle:\n",
    "            pickle.dump(dataset[i], handle, protocol=pickle.HIGHEST_PROTOCOL)\n",
    "        count += 1\n",
    "        if count % step == 0:\n",
    "            print(f'progress: {count * 100 / total:.2f}%', end='\\r')"
   ]
  },
  {
   "cell_type": "markdown",
   "metadata": {},
   "source": [
    "## Train test split"
   ]
  },
  {
   "cell_type": "code",
   "execution_count": 43,
   "metadata": {},
   "outputs": [],
   "source": [
    "df_train, df_test = train_test_split(cut_df, test_size=0.20, shuffle=True, stratify=cut_df['category'])"
   ]
  },
  {
   "cell_type": "code",
   "execution_count": 44,
   "metadata": {},
   "outputs": [],
   "source": [
    "patch_width = 145\n",
    "patch_height = 195"
   ]
  },
  {
   "cell_type": "code",
   "execution_count": 45,
   "metadata": {},
   "outputs": [],
   "source": [
    "classes = cut_df['category'].unique()\n",
    "indices = np.arange(0, len(classes), dtype=np.int64)\n",
    "class_to_idx = {k: v for k, v in zip(classes, indices)}\n",
    "train0 = ClothesDataset(df_train, class_to_idx\n",
    "                       , prefix='dataset/')\n",
    "train = ClothesDataset(df_train, class_to_idx,\n",
    "                       transform=transforms.Compose([\n",
    "                           PatchCrop([patch_width, patch_height]),\n",
    "                           Hog(),\n",
    "                           ToTensor()\n",
    "                       ]), prefix='dataset/')\n",
    "test = ClothesDataset(df_test, class_to_idx,\n",
    "                       transform=transforms.Compose([\n",
    "                           PatchCrop([patch_width, patch_height]),\n",
    "                           Hog(),\n",
    "                           ToTensor()\n",
    "                       ]), prefix='dataset/')"
   ]
  },
  {
   "cell_type": "code",
   "execution_count": 46,
   "metadata": {},
   "outputs": [
    {
     "name": "stdout",
     "output_type": "stream",
     "text": [
      "progress: 99.98%\r"
     ]
    }
   ],
   "source": [
    "save_dataset(test, 'dataset/ds_hog/test/')"
   ]
  },
  {
   "cell_type": "code",
   "execution_count": null,
   "metadata": {},
   "outputs": [
    {
     "name": "stdout",
     "output_type": "stream",
     "text": [
      "progress: 57.75%\r"
     ]
    }
   ],
   "source": [
    "save_dataset(train, 'dataset/ds_hog/train')"
   ]
  },
  {
   "cell_type": "code",
   "execution_count": null,
   "metadata": {},
   "outputs": [],
   "source": [
    "test_optim = ClothesDatasetOptim('dataset/ds_hog/test/', class_to_idx)\n",
    "train_optim = ClothesDatasetOptim('dataset/ds_hog/train/', class_to_idx)"
   ]
  },
  {
   "cell_type": "code",
   "execution_count": null,
   "metadata": {},
   "outputs": [],
   "source": [
    "print('train size:', len(train_optim))\n",
    "print('test_size:', len(test_optim))"
   ]
  },
  {
   "cell_type": "code",
   "execution_count": null,
   "metadata": {},
   "outputs": [],
   "source": [
    "%%timeit\n",
    "test_optim[30]"
   ]
  },
  {
   "cell_type": "code",
   "execution_count": null,
   "metadata": {},
   "outputs": [],
   "source": [
    "idx = 9000\n",
    "plt.imshow(train[idx]['image'])\n",
    "print(train[idx]['category'])\n",
    "plt.show()\n",
    "show_bbox(train0[idx]['image'], df_train.iloc[idx][['x1', 'y1', 'x2', 'y2']])"
   ]
  },
  {
   "cell_type": "code",
   "execution_count": null,
   "metadata": {},
   "outputs": [],
   "source": [
    "%%timeit\n",
    "train0[8090]"
   ]
  },
  {
   "cell_type": "code",
   "execution_count": null,
   "metadata": {},
   "outputs": [],
   "source": [
    "for i in range(len(train)):\n",
    "    sample = train[i]\n",
    "\n",
    "    print(f'#{i}:', sample['hog'].size(), sample['category'])\n",
    "    if i == 0:\n",
    "        input_dim = list(sample['hog'].size())[0]\n",
    "\n",
    "    if i == 3:\n",
    "        break"
   ]
  },
  {
   "cell_type": "code",
   "execution_count": null,
   "metadata": {},
   "outputs": [],
   "source": [
    "train_on_gpu = cuda.is_available()\n",
    "print(f'Train on gpu: {train_on_gpu}')\n",
    "if train_on_gpu:\n",
    "    gpu_count = cuda.device_count()\n",
    "    print(f'{gpu_count} gpus detected.')\n",
    "    if gpu_count > 1:\n",
    "        multi_gpu = True\n",
    "    else:\n",
    "        multi_gpu = False"
   ]
  },
  {
   "cell_type": "code",
   "execution_count": null,
   "metadata": {},
   "outputs": [],
   "source": [
    "batch_size = 128\n",
    "train_loader = DataLoader(train, batch_size=batch_size, shuffle=True)\n",
    "test_loader = DataLoader(test, batch_size=batch_size, shuffle=True)"
   ]
  },
  {
   "cell_type": "code",
   "execution_count": null,
   "metadata": {},
   "outputs": [],
   "source": [
    "class LogisticRegression(nn.Module):\n",
    "    def __init__(self, input_dim, output_dim):\n",
    "        super(LogisticRegression, self).__init__()\n",
    "        self.linear = nn.Linear(input_dim, output_dim)\n",
    "        self.softmax = nn.Softmax(dim=1)\n",
    "\n",
    "    def forward(self, x):\n",
    "        outputs = self.linear(x)\n",
    "        return outputs"
   ]
  },
  {
   "cell_type": "code",
   "execution_count": null,
   "metadata": {},
   "outputs": [],
   "source": [
    "output_dim = number_of_categories\n",
    "lr_rate = 0.01\n",
    "epochs = 100\n",
    "\n",
    "model = LogisticRegression(input_dim, output_dim)\n",
    "if train_on_gpu:\n",
    "    model = model.to('cuda')\n",
    "if multi_gpu:\n",
    "    model = nn.DataParallel(model)"
   ]
  },
  {
   "cell_type": "code",
   "execution_count": null,
   "metadata": {},
   "outputs": [],
   "source": [
    "# trainiter = iter(train_loader)\n",
    "# sample = next(trainiter)\n",
    "# sample['hog'].size(), sample['category']"
   ]
  },
  {
   "cell_type": "code",
   "execution_count": null,
   "metadata": {},
   "outputs": [],
   "source": [
    "# model(sample['hog'])"
   ]
  },
  {
   "cell_type": "code",
   "execution_count": null,
   "metadata": {},
   "outputs": [],
   "source": [
    "criterion = nn.NLLLoss()\n",
    "optimizer = torch.optim.SGD(model.parameters(), lr=lr_rate)"
   ]
  },
  {
   "cell_type": "code",
   "execution_count": null,
   "metadata": {},
   "outputs": [],
   "source": [
    "%%timeit\n",
    "data = iter(train_loader)\n",
    "s = next(data)"
   ]
  },
  {
   "cell_type": "code",
   "execution_count": null,
   "metadata": {},
   "outputs": [],
   "source": [
    "%%timeit\n",
    "features = Variable(s['hog'])\n",
    "labels = Variable(s['category'])\n",
    "if train_on_gpu:\n",
    "    features = features.cuda()\n",
    "    labels = labels.cuda()\n",
    "optimizer.zero_grad()\n",
    "outputs = model(features)\n",
    "loss = criterion(outputs, labels)\n",
    "loss.backward()\n",
    "optimizer.step()"
   ]
  },
  {
   "cell_type": "code",
   "execution_count": null,
   "metadata": {},
   "outputs": [],
   "source": [
    "iteration = 0\n",
    "for epoch in range(epochs):\n",
    "    model.train()\n",
    "    start = timer()\n",
    "    for i, sample in enumerate(train_loader):\n",
    "        features = Variable(sample['hog'])\n",
    "        labels = Variable(sample['category'])\n",
    "        if train_on_gpu:\n",
    "            features = features.cuda()\n",
    "            labels = labels.cuda()\n",
    "        optimizer.zero_grad()\n",
    "        outputs = model(features)\n",
    "        loss = criterion(outputs, labels)\n",
    "        loss.backward()\n",
    "        optimizer.step()\n",
    "        \n",
    "        print(\n",
    "                f'Epoch: {epoch}\\t{100 * (i + 1) / len(train_loader):.2f}% complete. {timer() - start:.2f} seconds elapsed in epoch.',\n",
    "                end='\\r')\n",
    "        iteration+=1\n",
    "        if iteration % 500 == 0:\n",
    "            # calculate Accuracy\n",
    "            correct = 0\n",
    "            total = 0\n",
    "            for sample in test_loader:\n",
    "                features = Variable(sample['hog'])\n",
    "                labels = Variable(sample['category'])\n",
    "                if train_on_gpu:\n",
    "                    features = features.cuda()\n",
    "                    labels = labels.cuda()\n",
    "                outputs = model(features)\n",
    "                _, predicted = torch.max(outputs.data, 1)\n",
    "                total+= labels.size(0)\n",
    "                # for gpu, bring the predicted and labels back to cpu for python operations to work\n",
    "                correct+= (predicted == labels).sum()\n",
    "            accuracy = 100 * correct/total\n",
    "            print(\"Iteration: {}. Loss: {}. Accuracy: {}.\".format(iteration, loss.item(), accuracy))"
   ]
  },
  {
   "cell_type": "code",
   "execution_count": null,
   "metadata": {},
   "outputs": [],
   "source": []
  },
  {
   "cell_type": "code",
   "execution_count": null,
   "metadata": {},
   "outputs": [],
   "source": []
  },
  {
   "cell_type": "code",
   "execution_count": null,
   "metadata": {},
   "outputs": [],
   "source": []
  }
 ],
 "metadata": {
  "kernelspec": {
   "display_name": "Python 3",
   "language": "python",
   "name": "python3"
  },
  "language_info": {
   "codemirror_mode": {
    "name": "ipython",
    "version": 3
   },
   "file_extension": ".py",
   "mimetype": "text/x-python",
   "name": "python",
   "nbconvert_exporter": "python",
   "pygments_lexer": "ipython3",
   "version": "3.6.4"
  }
 },
 "nbformat": 4,
 "nbformat_minor": 2
}
